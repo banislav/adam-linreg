{
 "cells": [
  {
   "cell_type": "code",
   "execution_count": 2,
   "id": "ea2e7c2d-9193-441a-8ce8-3ffd894f5f4f",
   "metadata": {},
   "outputs": [],
   "source": [
    "import numpy as np\n",
    "from sklearn.datasets import make_regression\n",
    "from sklearn.model_selection import train_test_split"
   ]
  },
  {
   "cell_type": "code",
   "execution_count": 7,
   "id": "c1663d6e-5869-4ef8-a1ad-817a9945bfb1",
   "metadata": {},
   "outputs": [],
   "source": [
    "X, y = make_regression(n_samples=10000, n_features=100, random_state=42)\n",
    "X_train, X_test, y_train, y_test = train_test_split(X, y, random_state=42, test_size=0.25)"
   ]
  },
  {
   "cell_type": "code",
   "execution_count": 8,
   "id": "46358c0b-83ef-43c8-b1e6-7b053e784b70",
   "metadata": {},
   "outputs": [],
   "source": [
    "class AdamLinreg:\n",
    "    def __init__(self, learning_rate:float=0.001, decay_rates:tuple=(0.9, 0.999)) -> None:\n",
    "        self.learning_rate = learning_rate\n",
    "        self.decay_rates = decay_rates\n",
    "        self.epsilon = 10**(-8)\n",
    "        \n",
    "        self.losses = np.array([], dtype=float)\n",
    "    \n",
    "    def init_weights(self, n_features:int) -> None:\n",
    "        self.weights = np.zeros(n_features, dtype=float)\n",
    "        self.bias = 0\n",
    "        \n",
    "    def calculate_grads(self):\n",
    "        pass\n",
    "    \n",
    "    def calculate_moments(self):\n",
    "        pass"
   ]
  },
  {
   "cell_type": "code",
   "execution_count": null,
   "id": "0defcd1c-346d-4f66-a4d8-69693c1a7e3c",
   "metadata": {},
   "outputs": [],
   "source": []
  }
 ],
 "metadata": {
  "kernelspec": {
   "display_name": "sexozavr-ml",
   "language": "python",
   "name": "sexozavr-ml"
  },
  "language_info": {
   "codemirror_mode": {
    "name": "ipython",
    "version": 3
   },
   "file_extension": ".py",
   "mimetype": "text/x-python",
   "name": "python",
   "nbconvert_exporter": "python",
   "pygments_lexer": "ipython3",
   "version": "3.9.13"
  }
 },
 "nbformat": 4,
 "nbformat_minor": 5
}
