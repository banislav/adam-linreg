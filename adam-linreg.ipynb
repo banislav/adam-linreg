{
 "cells": [
  {
   "cell_type": "code",
   "execution_count": 58,
   "id": "c1663d6e-5869-4ef8-a1ad-817a9945bfb1",
   "metadata": {},
   "outputs": [],
   "source": [
    "import numpy as np\n",
    "from sklearn.datasets import make_regression\n",
    "from sklearn.model_selection import train_test_split\n",
    "\n",
    "X, y = make_regression(n_samples=1000, n_features=100, random_state=42)\n",
    "X_train, X_test, y_train, y_test = train_test_split(X, y, random_state=42, test_size=0.25)"
   ]
  },
  {
   "cell_type": "code",
   "execution_count": 100,
   "id": "46358c0b-83ef-43c8-b1e6-7b053e784b70",
   "metadata": {},
   "outputs": [],
   "source": [
    "import math\n",
    "\n",
    "class AdamLinreg:\n",
    "    def __init__(self, learning_rate:float=0.001, decay_rates:tuple=(0.9, 0.999)) -> None:\n",
    "        self.learning_rate = learning_rate\n",
    "        self.decay_rates = decay_rates\n",
    "        self.epsilon = 10**(-8)\n",
    "        \n",
    "        self.losses = np.array([], dtype=float)\n",
    "    \n",
    "    def init_weights(self, n_features:int) -> None:\n",
    "        self.weights = np.zeros(n_features, dtype=float)\n",
    "\n",
    "        self.m_moments = np.zeros((1, n_features), dtype=float)\n",
    "        self.v_moments = np.zeros((1, n_features), dtype=float)\n",
    "        \n",
    "    def calculate_grads(self, x:list[float], y:float, target:float) -> list[float]:\n",
    "        return np.array([2 * (y - target) * x[i] for i in range(len(x))])\n",
    "    \n",
    "    def calculate_moments(self, x:list[float], y:float, target:float, n_iter:int) -> tuple[float]:\n",
    "        m = np.zeros_like(self.m_moments[0], dtype=float)\n",
    "        v = np.zeros_like(self.v_moments[0], dtype=float)\n",
    "        grads = self.calculate_grads(x, y, target)\n",
    "        \n",
    "        for i in range(grads.shape[0]):\n",
    "            m[i] = self.decay_rates[0] * self.m_moments[-1][i] + (1 - self.decay_rates[0]) * grads[i]\n",
    "            v[i] = self.decay_rates[1] * self.v_moments[-1][i] + (1 - self.decay_rates[1]) * grads[i]**2\n",
    "\n",
    "        corrected_m = m / (1 - self.decay_rates[0]**n_iter) \n",
    "        corrected_v = v / (1 - self.decay_rates[1]**n_iter)\n",
    "        \n",
    "        self.m_moments = np.vstack((self.m_moments, corrected_m))\n",
    "        self.v_moments = np.vstack((self.v_moments, corrected_v))\n",
    "\n",
    "        return corrected_m, corrected_v\n",
    "    \n",
    "    def train(self, X:np.ndarray, y:np.ndarray) -> None:\n",
    "        self.init_weights(X.shape[1])\n",
    "        \n",
    "        for epoch in range(1):\n",
    "            \n",
    "            for i in range(X.shape[0]):\n",
    "                pred = self.predict(X[i])\n",
    "                loss = (y[i] - pred)**2\n",
    "\n",
    "                self.losses = np.append(self.losses, loss)\n",
    "\n",
    "                m, v = self.calculate_moments(X[i], pred, y[i], i)\n",
    "                for j in range(self.weights.shape[0]):\n",
    "                    self.weights[j] -= self.learning_rate * m[j] / (math.sqrt(v[j]) + self.epsilon)\n",
    "            print(f'epoch {epoch} finished')\n",
    "            \n",
    "    \n",
    "    def predict(self, X: np.ndarray) -> np.ndarray:\n",
    "        return np.dot(X, self.weights)"
   ]
  },
  {
   "cell_type": "code",
   "execution_count": 102,
   "id": "ddd5ceae-0c2d-4c73-8c90-c05f5bcf3131",
   "metadata": {},
   "outputs": [
    {
     "name": "stdout",
     "output_type": "stream",
     "text": [
      "epoch 0 finished\n"
     ]
    },
    {
     "name": "stderr",
     "output_type": "stream",
     "text": [
      "/var/folders/1s/tsdn68ps7_sc32ggkmy293y80000gn/T/ipykernel_12920/3659384610.py:29: RuntimeWarning: divide by zero encountered in divide\n",
      "  corrected_m = m / (1 - self.decay_rates[0]**n_iter)\n",
      "/var/folders/1s/tsdn68ps7_sc32ggkmy293y80000gn/T/ipykernel_12920/3659384610.py:30: RuntimeWarning: divide by zero encountered in divide\n",
      "  corrected_v = v / (1 - self.decay_rates[1]**n_iter)\n",
      "/var/folders/1s/tsdn68ps7_sc32ggkmy293y80000gn/T/ipykernel_12920/3659384610.py:50: RuntimeWarning: invalid value encountered in double_scalars\n",
      "  self.weights[j] -= self.learning_rate * m[j] / (math.sqrt(v[j]) + self.epsilon)\n"
     ]
    }
   ],
   "source": [
    "#TODO: momentum calculations fuck up from second iteration \n",
    "linreg = AdamLinreg()\n",
    "linreg.train(X_train, y_train)"
   ]
  },
  {
   "cell_type": "code",
   "execution_count": 91,
   "id": "859bb5e4-7401-46ba-9832-888e8b935336",
   "metadata": {},
   "outputs": [
    {
     "data": {
      "image/png": "[encoded data removed]",
      "text/plain": [
       "<Figure size 640x480 with 1 Axes>"
      ]
     },
     "metadata": {},
     "output_type": "display_data"
    }
   ],
   "source": [
    "import matplotlib.pyplot as plt\n",
    "\n",
    "plt.plot(linreg.losses);"
   ]
  },
  {
   "cell_type": "code",
   "execution_count": 78,
   "id": "aa84f4a1-713c-469b-864a-7fa4345827ca",
   "metadata": {},
   "outputs": [
    {
     "data": {
      "text/plain": [
       "100"
      ]
     },
     "execution_count": 78,
     "metadata": {},
     "output_type": "execute_result"
    }
   ],
   "source": [
    "linreg.weights.shape[0]"
   ]
  },
  {
   "cell_type": "code",
   "execution_count": null,
   "id": "e68f0def-b69c-4445-a1ee-8833c96905dc",
   "metadata": {},
   "outputs": [],
   "source": []
  }
 ],
 "metadata": {
  "kernelspec": {
   "display_name": "sexozavr-ml",
   "language": "python",
   "name": "sexozavr-ml"
  },
  "language_info": {
   "codemirror_mode": {
    "name": "ipython",
    "version": 3
   },
   "file_extension": ".py",
   "mimetype": "text/x-python",
   "name": "python",
   "nbconvert_exporter": "python",
   "pygments_lexer": "ipython3",
   "version": "3.9.13"
  }
 },
 "nbformat": 4,
 "nbformat_minor": 5
}
