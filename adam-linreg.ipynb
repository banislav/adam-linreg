{
 "cells": [
  {
   "cell_type": "code",
   "execution_count": 4,
   "id": "ea2e7c2d-9193-441a-8ce8-3ffd894f5f4f",
   "metadata": {},
   "outputs": [],
   "source": [
    "import numpy as np\n",
    "from sklearn.datasets import make_regression\n",
    "from sklearn.model_selection import train_test_split"
   ]
  },
  {
   "cell_type": "code",
   "execution_count": 5,
   "id": "c1663d6e-5869-4ef8-a1ad-817a9945bfb1",
   "metadata": {},
   "outputs": [],
   "source": [
    "X, y = make_regression(n_samples=10000, n_features=100, random_state=42)\n",
    "X_train, X_test, y_train, y_test = train_test_split(X, y, random_state=42, test_size=0.25)"
   ]
  },
  {
   "cell_type": "code",
   "execution_count": 6,
   "id": "46358c0b-83ef-43c8-b1e6-7b053e784b70",
   "metadata": {},
   "outputs": [],
   "source": [
    "class AdamLinreg:\n",
    "    def __init__(self, learning_rate:float=0.001, decay_rates:tuple=(0.9, 0.999)) -> None:\n",
    "        self.learning_rate = learning_rate\n",
    "        self.decay_rates = decay_rates\n",
    "        self.epsilon = 10**(-8)\n",
    "        \n",
    "        self.m_moment = np.array([], dtype=float)\n",
    "        self.v_moment = np.array([], dtype=float)\n",
    "        \n",
    "        self.losses = np.array([], dtype=float)\n",
    "    \n",
    "    def init_weights(self, n_features:int) -> None:\n",
    "        self.weights = np.zeros(n_features, dtype=float)\n",
    "        \n",
    "    def calculate_grads(self, x:list[float], y:float, target:float) -> list[float]:\n",
    "        return [2 * (y - target) * x[i] for i in range(len(x))]\n",
    "    \n",
    "    def calculate_moments(self, grads:list[float], n_iter:int) -> tuple[float]:\n",
    "        m = self.decay_rates[0] * self.m_moment[-1] + (1 - self.decay_rates[0]) * grads\n",
    "        v = self.decay_rates[1] * self.v_moment[-1] + (1 - self.decay_rates[1]) * grads**2\n",
    "        \n",
    "        self.m_moment = np.append(self.m_moment, m)\n",
    "        self.v_moment = np.append(self.v_moment, v)\n",
    "        \n",
    "        corrected_m = m / (1 - self.decay_rates[0]**n_iter) \n",
    "        corrected_v = v / (1 - self.decay_rates[1]**n_iter)\n",
    "        \n",
    "        return corrected_m, corrected_v\n",
    "    \n",
    "    def train(self, X, y) -> None:\n",
    "        pass\n",
    "    \n",
    "    def predict(self, X) -> np.ndarray:\n",
    "        pass"
   ]
  },
  {
   "cell_type": "code",
   "execution_count": null,
   "id": "ddd5ceae-0c2d-4c73-8c90-c05f5bcf3131",
   "metadata": {},
   "outputs": [],
   "source": []
  }
 ],
 "metadata": {
  "kernelspec": {
   "display_name": "sexozavr-ml",
   "language": "python",
   "name": "sexozavr-ml"
  },
  "language_info": {
   "codemirror_mode": {
    "name": "ipython",
    "version": 3
   },
   "file_extension": ".py",
   "mimetype": "text/x-python",
   "name": "python",
   "nbconvert_exporter": "python",
   "pygments_lexer": "ipython3",
   "version": "3.9.13"
  }
 },
 "nbformat": 4,
 "nbformat_minor": 5
}
